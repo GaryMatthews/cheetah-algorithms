{
  "nbformat": 4,
  "nbformat_minor": 0,
  "metadata": {
    "colab": {
      "name": "phase_generator",
      "version": "0.3.2",
      "provenance": []
    },
    "kernelspec": {
      "name": "python3",
      "display_name": "Python 3"
    }
  },
  "cells": [
    {
      "cell_type": "code",
      "metadata": {
        "id": "3vRKlC_KXf58",
        "colab_type": "code",
        "colab": {}
      },
      "source": [
        "import numpy as np\n",
        "import matplotlib.pyplot as plt\n",
        "import math\n",
        "import time\t"
      ],
      "execution_count": 0,
      "outputs": []
    },
    {
      "cell_type": "code",
      "metadata": {
        "id": "VOR-sQyeXt39",
        "colab_type": "code",
        "colab": {}
      },
      "source": [
        "class Gait():\n",
        "    def __init__(self, max_leg_displacement):\n",
        "        self.max_leg_displacement = max_leg_displacement\n",
        "        self.leg_clocks = [0, 0, 0,0]\n",
        "        self.last_touchdown = 0\n",
        "        self.phase_gen_started = False\n",
        "\n",
        "    def now(self):\n",
        "        return int(round(time.time() * 1000))\n",
        "\n",
        "    def generate(self, target_velocity_x):\n",
        "        now = self.now()\n",
        "        elapsed_time_ref = 0\n",
        "        swing_phase_period = 250  \n",
        "        stance_phase_period = (self.max_leg_displacement / target_velocity_x) * 1000\n",
        "        stride_phase_period = swing_phase_period + stance_phase_period\n",
        "\n",
        "        leg_clocks = [0, 0, 0, 0]\n",
        "        swing_phase_signals = [0, 0, 0, 0]\n",
        "        stance_phase_signals = [0, 0, 0, 0]\n",
        "\n",
        "        if not self.phase_gen_started:\n",
        "            self.phase_gen_started = True\n",
        "            self.last_touchdown = now\n",
        "            \n",
        "        if now - self.last_touchdown >= stride_phase_period:\n",
        "            self.last_touchdown = now\n",
        "            \n",
        "        if elapsed_time_ref > stride_phase_period:\n",
        "            elapsed_time_ref = stride_phase_period\n",
        "        else:\n",
        "            elapsed_time_ref = now - self.last_touchdown\n",
        "            \n",
        "        leg_clocks[0] = elapsed_time_ref - (0.0 * stride_phase_period)\n",
        "        leg_clocks[1] = elapsed_time_ref - (0.5 * stride_phase_period)\n",
        "        leg_clocks[2] = elapsed_time_ref - (0.5 * stride_phase_period)\n",
        "        leg_clocks[3] = elapsed_time_ref - (0.0 * stride_phase_period)\n",
        "\n",
        "        for i in range(4):\n",
        "        \n",
        "            if leg_clocks[i] > 0 and leg_clocks[i] < stance_phase_period:\n",
        "                stance_phase_signals[i] = leg_clocks[i] / stance_phase_period\n",
        "            else:\n",
        "                stance_phase_signals[i] = 0\n",
        "\n",
        "            if leg_clocks[i] > -swing_phase_period and leg_clocks[i] < 0:\n",
        "                swing_phase_signals[i] = (leg_clocks[i]  + swing_phase_period) / swing_phase_period\n",
        "                \n",
        "            elif leg_clocks[i] > stance_phase_period and leg_clocks[i] < stride_phase_period:\n",
        "                swing_phase_signals[i] = (leg_clocks[i]  - stance_phase_period) / swing_phase_period \n",
        "\n",
        "            else:\n",
        "                swing_phase_signals[i] = 0\n",
        "\n",
        "        return stance_phase_signals, swing_phase_signals, now "
      ],
      "execution_count": 0,
      "outputs": []
    },
    {
      "cell_type": "code",
      "metadata": {
        "id": "7ifL2LB4X8Os",
        "colab_type": "code",
        "outputId": "9ce9defb-5e21-4e54-bfba-0fbbd1b7c6b4",
        "colab": {
          "base_uri": "https://localhost:8080/",
          "height": 282
        }
      },
      "source": [
        "FREQ = 100\n",
        "MAX_DISPLACEMENT = 0.15\n",
        "VEL = 2.0\n",
        "g = Gait(MAX_DISPLACEMENT)\n",
        "has_started = False\n",
        "time_started = 0\n",
        "l_swing_signals = []\n",
        "r_swing_signals = []\n",
        "l_stance_signals = []\n",
        "r_stance_signals = []\n",
        "collected_time = []\n",
        "\n",
        "while True:\n",
        "    if not has_started:\n",
        "        has_started = True\n",
        "        time_started = g.now()\n",
        "\n",
        "    stance_signals = []\n",
        "    swing_signals = []\n",
        "    current_time = 0\n",
        "\n",
        "    stance_signals, swing_signals, current_time = g.generate(VEL)\n",
        "    \n",
        "    l_stance_signals.append(stance_signals[0])\n",
        "    l_swing_signals.append(swing_signals[0])\n",
        "\n",
        "    r_stance_signals.append(stance_signals[1])\n",
        "    r_swing_signals.append(swing_signals[1])\n",
        "\n",
        "    collected_time.append(current_time)\n",
        "\n",
        "    if g.now() - time_started > 700:\n",
        "        plt.plot(collected_time, l_swing_signals, 'r')\n",
        "        plt.plot(collected_time, r_swing_signals, 'b')\n",
        "        plt.plot(collected_time, l_stance_signals, 'r')\n",
        "        plt.plot(collected_time, r_stance_signals, 'b')\n",
        "        plt.show()\n",
        "        break\n",
        "\n",
        "    time.sleep(1 / FREQ)"
      ],
      "execution_count": 5,
      "outputs": [
        {
          "output_type": "display_data",
          "data": {
            "image/png": "[encoded data removed]",
            "text/plain": [
              "<Figure size 432x288 with 1 Axes>"
            ]
          },
          "metadata": {
            "tags": []
          }
        }
      ]
    },
    {
      "cell_type": "code",
      "metadata": {
        "id": "os93xtJ-zVRX",
        "colab_type": "code",
        "colab": {}
      },
      "source": [
        ""
      ],
      "execution_count": 0,
      "outputs": []
    }
  ]
}