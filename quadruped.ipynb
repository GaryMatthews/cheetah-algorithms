{
 "cells": [
  {
   "cell_type": "code",
   "execution_count": 1,
   "metadata": {},
   "outputs": [],
   "source": [
    "#pragma cling add_include_path(\"/home/juan/champ_ws/src/champ/champ_base/include/libchamp/include\")\n",
    "#pragma cling add_include_path(\"/home/juan/champ_ws/src/champ/champ_config/include\")\n",
    "#pragma cling add_include_path(\"/usr/include/eigen3\")"
   ]
  },
  {
   "cell_type": "code",
   "execution_count": 2,
   "metadata": {},
   "outputs": [],
   "source": [
    "#include \"ros/ros.h\"\n",
    "#pragma cling load(\"roscpp\")\n",
    "\n",
    "#include \"xplot/xfigure.hpp\"\n",
    "#include \"xplot/xmarks.hpp\"\n",
    "#include \"xplot/xaxes.hpp\"\n",
    "#include \"geometry/geometry.h\"\n",
    "#include \"robotviz/robotviz.h\"\n",
    "\n",
    "#include \"ros/ros.h\"\n",
    "#include \"sensor_msgs/JointState.h\"\n",
    "#include \"quadruped_base/quadruped_base.h\"\n",
    "\n",
    "#include \"quadruped_base/quadruped_components.h\"\n",
    "#include \"body_controller/body_controller.h\"\n",
    "#include \"leg_controller/leg_controller.h\"\n",
    "#include \"kinematics/kinematics.h\"\n",
    "\n",
    "#include \"quadruped_description.h\"\n",
    "\n",
    "#include \"unistd.h\"\n",
    "#include \"iostream\"\n",
    "\n",
    "//#define USE_ROS"
   ]
  },
  {
   "cell_type": "code",
   "execution_count": 3,
   "metadata": {},
   "outputs": [],
   "source": [
    "ros::Publisher joint_states_publisher;   \n",
    "\n",
    "#ifdef USE_ROS\n",
    "int argc = 1;\n",
    "char arg0[] = \"talker\";\n",
    "char* argv[] = {arg0, NULL};\n",
    "ros::init(argc, argv, \"champ_notebook_controller\");\n",
    "\n",
    "ros::NodeHandle nh(\"\");\n",
    "joint_states_publisher = nh.advertise<sensor_msgs::JointState>(\"/champ/joint_states\", 100);\n",
    "#endif\n",
    "\n",
    "std::vector<std::string> joint_names;\n",
    "joint_names.push_back(\"lf_hip_joint\");\n",
    "joint_names.push_back(\"lf_upper_leg_joint\");\n",
    "joint_names.push_back(\"lf_lower_leg_joint\");\n",
    "joint_names.push_back(\"rf_hip_joint\");\n",
    "joint_names.push_back(\"rf_upper_leg_joint\");\n",
    "joint_names.push_back(\"rf_lower_leg_joint\");\n",
    "joint_names.push_back(\"lh_hip_joint\");\n",
    "joint_names.push_back(\"lh_upper_leg_joint\");\n",
    "joint_names.push_back(\"lh_lower_leg_joint\");\n",
    "joint_names.push_back(\"rh_hip_joint\");\n",
    "joint_names.push_back(\"rh_upper_leg_joint\");\n",
    "joint_names.push_back(\"rh_lower_leg_joint\");"
   ]
  },
  {
   "cell_type": "code",
   "execution_count": 4,
   "metadata": {},
   "outputs": [],
   "source": [
    "champ::GaitConfig gait_config;\n",
    "\n",
    "gait_config.pantograph_leg = false;\n",
    "gait_config.max_linear_velocity_x = 0.5;\n",
    "gait_config.max_linear_velocity_y = 0.5;\n",
    "gait_config.max_angular_velocity_z = 1.0;\n",
    "gait_config.swing_height = 0.04;\n",
    "gait_config.stance_depth = 0.0;\n",
    "gait_config.stance_duration = 0.25;\n",
    "gait_config.nominal_height = 0.2;\n",
    "gait_config.knee_orientation = \">>\";\n",
    "\n",
    "champ::QuadrupedBase base(gait_config);\n",
    "champ::URDF::loadFromHeader(base);\n",
    "\n",
    "champ::BodyController body_controller(base);\n",
    "champ::LegController leg_controller(base);\n",
    "champ::Kinematics kinematics(base);"
   ]
  },
  {
   "cell_type": "code",
   "execution_count": 5,
   "metadata": {},
   "outputs": [],
   "source": [
    "xpl::figure fig;\n",
    "\n",
    "xpl::linear_scale sx, sy;\n",
    "sx.min = -0.3;\n",
    "sx.max = 0.3;\n",
    "sy.min = -0.3;\n",
    "sy.max = 0.3;\n",
    "\n",
    "xpl::lines line(sx, sy);\n",
    "RobotViz robotviz(line);\n",
    "fig.add_mark(line);"
   ]
  },
  {
   "cell_type": "code",
   "execution_count": 6,
   "metadata": {},
   "outputs": [],
   "source": [
    "line.colors = std::vector<std::string>({\"green\"});"
   ]
  },
  {
   "cell_type": "code",
   "execution_count": 7,
   "metadata": {},
   "outputs": [],
   "source": [
    "xpl::axis hx(sx ), hy(sy);\n",
    "hy.orientation = \"vertical\";\n",
    "fig.add_axis(hx);\n",
    "fig.add_axis(hy);"
   ]
  },
  {
   "cell_type": "code",
   "execution_count": 8,
   "metadata": {},
   "outputs": [],
   "source": [
    "void publishJoints(float joint_states[12])\n",
    "{\n",
    "    sensor_msgs::JointState joints_msg;\n",
    "\n",
    "    joints_msg.header.stamp = ros::Time::now();\n",
    "    joints_msg.name.resize(joint_names.size());\n",
    "    joints_msg.position.resize(joint_names.size());\n",
    "    joints_msg.name = joint_names;\n",
    "\n",
    "    for (size_t i = 0; i < joint_names.size(); ++i)\n",
    "    {    \n",
    "        joints_msg.position[i]= joint_states[i];\n",
    "    }\n",
    "    #ifdef USE_ROS\n",
    "    joint_states_publisher.publish(joints_msg);\n",
    "    #endif\n",
    "}"
   ]
  },
  {
   "cell_type": "code",
   "execution_count": 9,
   "metadata": {},
   "outputs": [
    {
     "data": {
      "application/vnd.jupyter.widget-view+json": {
       "model_id": "18324ee625124685aade1012999fbcfa",
       "version_major": 2,
       "version_minor": 0
      },
      "text/plain": [
       "A Jupyter widget"
      ]
     },
     "execution_count": 9,
     "metadata": {},
     "output_type": "execute_result"
    }
   ],
   "source": [
    "champ::Pose req_pose;\n",
    "req_pose.position.z = gait_config.nominal_height;\n",
    "\n",
    "champ::Velocities req_vel;\n",
    "req_vel.linear.x = 0.5;\n",
    "\n",
    "geometry::Transformation target_foot_positions[4];\n",
    "float target_joint_positions[12];\n",
    "\n",
    "fig"
   ]
  },
  {
   "cell_type": "code",
   "execution_count": 10,
   "metadata": {},
   "outputs": [],
   "source": [
    "for(size_t i = 0;  i < 500; i++)\n",
    "{    \n",
    "    body_controller.poseCommand(target_foot_positions, req_pose);\n",
    "    leg_controller.velocityCommand(target_foot_positions, req_vel);\n",
    "    kinematics.inverse(target_joint_positions, target_foot_positions);\n",
    "    \n",
    "    robotviz.updateJoints(target_joint_positions[1], target_joint_positions[2]);\n",
    "    //robotviz.updateJoints(-0.75, 0.75);\n",
    "    \n",
    "    #ifdef USE_ROS\n",
    "    publishJoints(target_joint_positions);\n",
    "    #endif\n",
    "    \n",
    "    usleep(10000);\n",
    "}"
   ]
  }
 ],
 "metadata": {
  "kernelspec": {
   "display_name": "C++14",
   "language": "C++14",
   "name": "xcpp14"
  },
  "language_info": {
   "codemirror_mode": "text/x-c++src",
   "file_extension": ".cpp",
   "mimetype": "text/x-c++src",
   "name": "c++",
   "version": "14"
  }
 },
 "nbformat": 4,
 "nbformat_minor": 4
}
