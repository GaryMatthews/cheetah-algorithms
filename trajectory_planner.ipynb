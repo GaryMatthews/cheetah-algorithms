{
  "nbformat": 4,
  "nbformat_minor": 0,
  "metadata": {
    "colab": {
      "name": "trajectory_planner",
      "version": "0.3.2",
      "provenance": [],
      "collapsed_sections": []
    },
    "kernelspec": {
      "name": "python3",
      "display_name": "Python 3"
    }
  },
  "cells": [
    {
      "cell_type": "code",
      "metadata": {
        "id": "o2Y7rq6TSxFy",
        "colab_type": "code",
        "colab": {}
      },
      "source": [
        "import matplotlib.pyplot as plt\n",
        "import math"
      ],
      "execution_count": 0,
      "outputs": []
    },
    {
      "cell_type": "code",
      "metadata": {
        "id": "RlqE_xPBZt6H",
        "colab_type": "code",
        "colab": {}
      },
      "source": [
        "def scale_control_points(leg_length, max_foot_displacement):\n",
        "  control_points_x = [-0.15, -0.2805,-0.3,-0.3,-0.3,   0.0, 0.0 ,   0.0, 0.3032, 0.3032, 0.2826, 0.15]\n",
        "  control_points_y = [ 0.5,  0.5, 0.3611, 0.3611, 0.3611, 0.3611, 0.3611, 0.3214, 0.3214, 0.3214, 0.5, 0.5]\n",
        "  total_control_points = len(control_points_x)\n",
        "  leg_ratio = leg_length / 0.444\n",
        "\n",
        "  for i in range(12):\n",
        "      if i == 0:\n",
        "          control_points_x[i] = -max_foot_displacement / 2.0\n",
        "      elif i == 11:\n",
        "          control_points_x[i] = max_foot_displacement / 2.0\n",
        "      else:\n",
        "          control_points_x[i] = control_points_x[i] * leg_ratio\n",
        "\n",
        "      control_points_y[i] = (control_points_y[i] * leg_ratio) - (0.5 * leg_ratio)\n",
        "      \n",
        "  return control_points_x, control_points_y"
      ],
      "execution_count": 0,
      "outputs": []
    },
    {
      "cell_type": "code",
      "metadata": {
        "id": "r_S0DIb0a2vI",
        "colab_type": "code",
        "outputId": "fd7af44e-9a45-452e-eb25-a0e922d64bc0",
        "colab": {
          "base_uri": "https://localhost:8080/",
          "height": 71
        }
      },
      "source": [
        "LEG_LENGTH = 0.282\n",
        "MAX_FOOT_DISPLACEMENT = 0.125\n",
        "control_points_x, control_points_y = scale_control_points(LEG_LENGTH, MAX_FOOT_DISPLACEMENT)\n",
        "print(\"CONTROL POINTS X: {}\" .format(control_points_x))\n",
        "print(\"CONTROL POINTS Y: {}\" .format(control_points_y))"
      ],
      "execution_count": 81,
      "outputs": [
        {
          "output_type": "stream",
          "text": [
            "CONTROL POINTS X: [-0.0625, -0.17815540540540542, -0.1905405405405405, -0.1905405405405405, -0.1905405405405405, 0.0, 0.0, 0.0, 0.19257297297297296, 0.19257297297297296, 0.17948918918918919, 0.0625]\n",
            "CONTROL POINTS Y: [0.0, 0.0, -0.08822027027027027, -0.08822027027027027, -0.08822027027027027, -0.08822027027027027, -0.08822027027027027, -0.11343513513513512, -0.11343513513513512, -0.11343513513513512, 0.0, 0.0]\n"
          ],
          "name": "stdout"
        }
      ]
    },
    {
      "cell_type": "code",
      "metadata": {
        "id": "GosiDy0jWH2u",
        "colab_type": "code",
        "colab": {}
      },
      "source": [
        "class TrajectoryPlanner:\n",
        "    def __init__(self, max_foot_displacement, stance_depth):\n",
        "        self.max_foot_displacement = max_foot_displacement\n",
        "        self.stance_depth = stance_depth\n",
        "        self.control_points_x = [-0.0625, -0.08415, -0.09, -0.09, -0.09, 0.0, 0.0, 0.0, 0.09096, 0.09096, 0.08478000000000001, 0.0625]\n",
        "        self.control_points_y = [0.0, 0.0, -0.04167, -0.04167, -0.04167, -0.04167, -0.04167, -0.05357999999999999, -0.05357999999999999, -0.05357999999999999, 0.0, 0.0]\n",
        "        self.total_control_points = len(self.control_points_x)\n",
        "        self.factorial =  [1.0,1.0,2.0,6.0,24.0,120.0,720.0,5040.0,40320.0,362880.0,3628800.0,39916800.0,479001600.0]\n",
        "        \n",
        "        self.control_points_x[0]  = -self.max_foot_displacement / 2\n",
        "        self.control_points_x[self.total_control_points - 1]  = self.max_foot_displacement / 2\n",
        "                    \n",
        "    def generate_swing(self, phase_signal):\n",
        "        n = self.total_control_points - 1\n",
        "        x = 0\n",
        "        y = 0\n",
        "\n",
        "        for i in range(self.total_control_points):\n",
        "            coeff = self.factorial[n] / (self.factorial[i] * self.factorial[n - i])\n",
        "\n",
        "            x = x + (coeff * pow(phase_signal, i) * pow((1 - phase_signal), (n - i)) * self.control_points_x[i])\n",
        "            y = y + (coeff * pow(phase_signal, i) * pow((1 - phase_signal), (n - i)) * self.control_points_y[i])\n",
        "\n",
        "        return x, y\n",
        "\n",
        "    def generate_stance(self, phase_signal):\n",
        "        x = 0\n",
        "        y = 0\n",
        "        x = (self.max_foot_displacement / 2) * (1 - (2 * phase_signal)) \n",
        "        y = self.stance_depth * math.cos((3.1416 * x) / self.max_foot_displacement)\n",
        "        return x, y"
      ],
      "execution_count": 0,
      "outputs": []
    },
    {
      "cell_type": "code",
      "metadata": {
        "id": "RSgCB1OoUlg7",
        "colab_type": "code",
        "outputId": "9831dfa5-69d2-49da-dfb7-478acc36425d",
        "colab": {
          "base_uri": "https://localhost:8080/",
          "height": 269
        }
      },
      "source": [
        "LEG_LENGTH = 0.282\n",
        "MAX_DISPLACEMENT = 0.125\n",
        "STANCE_DEPTH = 0.005\n",
        "\n",
        "swing_x_points = []\n",
        "swing_y_points = []\n",
        "\n",
        "stance_x_points = []\n",
        "stance_y_points = []\n",
        "\n",
        "tp = TrajectoryPlanner(MAX_DISPLACEMENT, STANCE_DEPTH)\n",
        "#fig = plt.figure()\n",
        "#ax = fig.gca(projection='2d')\n",
        "plt.ylim([0, 0.3])\n",
        "plt.xlim([-0.2, 0.2])\n",
        "plt.grid(linestyle='-', linewidth='0.5', color='gray')\n",
        "\n",
        "for i in range(101):\n",
        "  phase_magnitude = i / 100\n",
        "  x_swing, y_swing = tp.generate_swing(phase_magnitude)\n",
        "  x_stance, y_stance = tp.generate_stance(phase_magnitude)\n",
        "  ref_x = 0.0\n",
        "  ref_y = 0.28\n",
        "  swing_x_points.append(ref_x - x_swing)\n",
        "  swing_y_points.append(ref_y + y_swing)\n",
        "  stance_x_points.append(ref_x - x_stance)\n",
        "  stance_y_points.append(ref_y + y_stance)\n",
        "\n",
        "plt.plot(swing_x_points, swing_y_points)\n",
        "plt.plot(stance_x_points, stance_y_points)\n",
        "\n",
        "plt.show()"
      ],
      "execution_count": 83,
      "outputs": [
        {
          "output_type": "display_data",
          "data": {
            "image/png": "[encoded data removed]",
            "text/plain": [
              "<Figure size 432x288 with 1 Axes>"
            ]
          },
          "metadata": {
            "tags": []
          }
        }
      ]
    },
    {
      "cell_type": "code",
      "metadata": {
        "id": "d-NcdEkZUYYS",
        "colab_type": "code",
        "colab": {}
      },
      "source": [
        ""
      ],
      "execution_count": 0,
      "outputs": []
    }
  ]
}